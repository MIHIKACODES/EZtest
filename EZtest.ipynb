{
  "nbformat": 4,
  "nbformat_minor": 0,
  "metadata": {
    "colab": {
      "provenance": []
    },
    "kernelspec": {
      "name": "python3",
      "display_name": "Python 3"
    },
    "language_info": {
      "name": "python"
    }
  },
  "cells": [
    {
      "cell_type": "code",
      "source": [
        "!pip install fastapi uvicorn nest-asyncio pyngrok itsdangerous python-multipart email-validator passlib\n"
      ],
      "metadata": {
        "colab": {
          "base_uri": "https://localhost:8080/"
        },
        "id": "U0j2DUk0uBky",
        "outputId": "28a7b105-15a2-4e7c-d865-3f1a65553620"
      },
      "execution_count": 18,
      "outputs": [
        {
          "output_type": "stream",
          "name": "stdout",
          "text": [
            "Requirement already satisfied: fastapi in /usr/local/lib/python3.11/dist-packages (0.115.14)\n",
            "Requirement already satisfied: uvicorn in /usr/local/lib/python3.11/dist-packages (0.35.0)\n",
            "Requirement already satisfied: nest-asyncio in /usr/local/lib/python3.11/dist-packages (1.6.0)\n",
            "Requirement already satisfied: pyngrok in /usr/local/lib/python3.11/dist-packages (7.2.11)\n",
            "Requirement already satisfied: itsdangerous in /usr/local/lib/python3.11/dist-packages (2.2.0)\n",
            "Requirement already satisfied: python-multipart in /usr/local/lib/python3.11/dist-packages (0.0.20)\n",
            "Requirement already satisfied: email-validator in /usr/local/lib/python3.11/dist-packages (2.2.0)\n",
            "Requirement already satisfied: passlib in /usr/local/lib/python3.11/dist-packages (1.7.4)\n",
            "Requirement already satisfied: starlette<0.47.0,>=0.40.0 in /usr/local/lib/python3.11/dist-packages (from fastapi) (0.46.2)\n",
            "Requirement already satisfied: pydantic!=1.8,!=1.8.1,!=2.0.0,!=2.0.1,!=2.1.0,<3.0.0,>=1.7.4 in /usr/local/lib/python3.11/dist-packages (from fastapi) (2.11.7)\n",
            "Requirement already satisfied: typing-extensions>=4.8.0 in /usr/local/lib/python3.11/dist-packages (from fastapi) (4.14.0)\n",
            "Requirement already satisfied: click>=7.0 in /usr/local/lib/python3.11/dist-packages (from uvicorn) (8.2.1)\n",
            "Requirement already satisfied: h11>=0.8 in /usr/local/lib/python3.11/dist-packages (from uvicorn) (0.16.0)\n",
            "Requirement already satisfied: PyYAML>=5.1 in /usr/local/lib/python3.11/dist-packages (from pyngrok) (6.0.2)\n",
            "Requirement already satisfied: dnspython>=2.0.0 in /usr/local/lib/python3.11/dist-packages (from email-validator) (2.7.0)\n",
            "Requirement already satisfied: idna>=2.0.0 in /usr/local/lib/python3.11/dist-packages (from email-validator) (3.10)\n",
            "Requirement already satisfied: annotated-types>=0.6.0 in /usr/local/lib/python3.11/dist-packages (from pydantic!=1.8,!=1.8.1,!=2.0.0,!=2.0.1,!=2.1.0,<3.0.0,>=1.7.4->fastapi) (0.7.0)\n",
            "Requirement already satisfied: pydantic-core==2.33.2 in /usr/local/lib/python3.11/dist-packages (from pydantic!=1.8,!=1.8.1,!=2.0.0,!=2.0.1,!=2.1.0,<3.0.0,>=1.7.4->fastapi) (2.33.2)\n",
            "Requirement already satisfied: typing-inspection>=0.4.0 in /usr/local/lib/python3.11/dist-packages (from pydantic!=1.8,!=1.8.1,!=2.0.0,!=2.0.1,!=2.1.0,<3.0.0,>=1.7.4->fastapi) (0.4.1)\n",
            "Requirement already satisfied: anyio<5,>=3.6.2 in /usr/local/lib/python3.11/dist-packages (from starlette<0.47.0,>=0.40.0->fastapi) (4.9.0)\n",
            "Requirement already satisfied: sniffio>=1.1 in /usr/local/lib/python3.11/dist-packages (from anyio<5,>=3.6.2->starlette<0.47.0,>=0.40.0->fastapi) (1.3.1)\n"
          ]
        }
      ]
    },
    {
      "cell_type": "code",
      "source": [
        "from fastapi import FastAPI, UploadFile, File, HTTPException\n",
        "from fastapi.responses import FileResponse\n",
        "from pyngrok import ngrok\n",
        "import os\n",
        "from itsdangerous import URLSafeTimedSerializer\n",
        "import nest_asyncio\n",
        "import uvicorn\n"
      ],
      "metadata": {
        "id": "0dOOxCFRuGWQ"
      },
      "execution_count": 19,
      "outputs": []
    },
    {
      "cell_type": "code",
      "source": [
        "nest_asyncio.apply()\n"
      ],
      "metadata": {
        "id": "fmFLP1XguJHZ"
      },
      "execution_count": 20,
      "outputs": []
    },
    {
      "cell_type": "code",
      "source": [
        "UPLOAD_DIR = \"/content/uploads\"\n",
        "os.makedirs(UPLOAD_DIR, exist_ok=True)\n",
        "\n",
        "SECRET_KEY = \"mihika_secure_key\"\n",
        "serializer = URLSafeTimedSerializer(SECRET_KEY)\n"
      ],
      "metadata": {
        "id": "IswVRS_vuLQU"
      },
      "execution_count": 21,
      "outputs": []
    },
    {
      "cell_type": "code",
      "source": [
        "app = FastAPI()\n",
        "\n",
        "@app.get(\"/\")\n",
        "def read_root():\n",
        "    return {\"message\": \"Hello, Mihika!\"}\n",
        "\n",
        "@app.post(\"/ops/upload-file\")\n",
        "async def upload_file(file: UploadFile = File(...)):\n",
        "    allowed_types = [\n",
        "        'application/vnd.openxmlformats-officedocument.presentationml.presentation',\n",
        "        'application/vnd.openxmlformats-officedocument.wordprocessingml.document',\n",
        "        'application/vnd.openxmlformats-officedocument.spreadsheetml.sheet'\n",
        "    ]\n",
        "    if file.content_type not in allowed_types:\n",
        "        raise HTTPException(status_code=400, detail=\"File type not allowed!\")\n",
        "\n",
        "    file_location = os.path.join(UPLOAD_DIR, file.filename)\n",
        "    with open(file_location, \"wb\") as buffer:\n",
        "        buffer.write(await file.read())\n",
        "\n",
        "    return {\"message\": \"File uploaded successfully!\"}\n",
        "\n",
        "@app.get(\"/client/download-link/{filename}\")\n",
        "def generate_download_link(filename: str):\n",
        "    token = serializer.dumps(filename)\n",
        "    download_url = f\"{public_url}/client/download-file/{token}\"\n",
        "    return {\"download-link\": download_url, \"message\": \"success\"}\n",
        "\n",
        "@app.get(\"/client/download-file/{token}\")\n",
        "def download_file(token: str):\n",
        "    try:\n",
        "        filename = serializer.loads(token, max_age=600)\n",
        "    except:\n",
        "        raise HTTPException(status_code=400, detail=\"Invalid or expired link!\")\n",
        "\n",
        "    file_path = os.path.join(UPLOAD_DIR, filename)\n",
        "    if not os.path.exists(file_path):\n",
        "        raise HTTPException(status_code=404, detail=\"File not found!\")\n",
        "\n",
        "    return FileResponse(file_path, media_type='application/octet-stream', filename=filename)\n"
      ],
      "metadata": {
        "id": "F1drx0aEuNO7"
      },
      "execution_count": 22,
      "outputs": []
    },
    {
      "cell_type": "code",
      "source": [
        "pip install pyngrok"
      ],
      "metadata": {
        "colab": {
          "base_uri": "https://localhost:8080/"
        },
        "id": "marf9QAs1AGP",
        "outputId": "f66cd10e-6f4f-469c-ba61-036be7e8141f"
      },
      "execution_count": 26,
      "outputs": [
        {
          "output_type": "stream",
          "name": "stdout",
          "text": [
            "Requirement already satisfied: pyngrok in /usr/local/lib/python3.11/dist-packages (7.2.11)\n",
            "Requirement already satisfied: PyYAML>=5.1 in /usr/local/lib/python3.11/dist-packages (from pyngrok) (6.0.2)\n"
          ]
        }
      ]
    },
    {
      "cell_type": "code",
      "source": [
        "from pyngrok import ngrok\n",
        "\n",
        "# Set your authtoken here\n",
        "ngrok.set_auth_token(\"2zLp6KBb6YHBGDzLnqtABUyfT4U_i7Wka3Tcf5bAX8en9cu1\")\n"
      ],
      "metadata": {
        "id": "k97moAK418oX"
      },
      "execution_count": 29,
      "outputs": []
    },
    {
      "cell_type": "code",
      "source": [
        "public_url = ngrok.connect(8000)\n",
        "print(\"Public URL:\", public_url)\n"
      ],
      "metadata": {
        "colab": {
          "base_uri": "https://localhost:8080/"
        },
        "id": "JU6EMjXK2IXZ",
        "outputId": "7b165bd9-37a3-40d5-af39-348a84368e96"
      },
      "execution_count": 30,
      "outputs": [
        {
          "output_type": "stream",
          "name": "stdout",
          "text": [
            "Public URL: NgrokTunnel: \"https://e5d8-34-63-238-224.ngrok-free.app\" -> \"http://localhost:8000\"\n"
          ]
        }
      ]
    },
    {
      "cell_type": "code",
      "source": [
        "uvicorn.run(app, host=\"0.0.0.0\", port=8000)\n"
      ],
      "metadata": {
        "colab": {
          "base_uri": "https://localhost:8080/"
        },
        "id": "MPXXjIqA22bS",
        "outputId": "af8249c4-adb5-4ad7-cb6c-14b10262fe1a"
      },
      "execution_count": 31,
      "outputs": [
        {
          "output_type": "stream",
          "name": "stderr",
          "text": [
            "INFO:     Started server process [879]\n",
            "INFO:     Waiting for application startup.\n",
            "INFO:     Application startup complete.\n",
            "INFO:     Uvicorn running on http://0.0.0.0:8000 (Press CTRL+C to quit)\n",
            "INFO:     Shutting down\n",
            "INFO:     Waiting for application shutdown.\n",
            "INFO:     Application shutdown complete.\n",
            "INFO:     Finished server process [879]\n"
          ]
        }
      ]
    }
  ]
}